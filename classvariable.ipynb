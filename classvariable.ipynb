{
  "nbformat": 4,
  "nbformat_minor": 0,
  "metadata": {
    "colab": {
      "provenance": []
    },
    "kernelspec": {
      "name": "python3",
      "display_name": "Python 3"
    },
    "language_info": {
      "name": "python"
    }
  },
  "cells": [
    {
      "cell_type": "code",
      "execution_count": 6,
      "metadata": {
        "id": "UPY0jWP054tc"
      },
      "outputs": [],
      "source": [
        "class employee():\n",
        "\n",
        "  count=0         # class variable\n",
        "\n",
        "  def __init__(self,name,age,city,salary,icount): # instance variables\n",
        "    self.name=name\n",
        "    self.age=age\n",
        "    self.city=city\n",
        "    self.salary=salary\n",
        "    self.icount=icount\n",
        "    self.icount+=1\n",
        "    employee.count+=1\n",
        "  \n",
        "\n",
        "  def displaystudent(self):\n",
        "    print(f\"{self.name}{self.age}{self.city}{self.salary}\")\n",
        "\n",
        "  def displaycount(self):\n",
        "    print(\"Class variable\",employee.count)\n",
        "    print(\"Instance variable\",self.icount)\n"
      ]
    },
    {
      "cell_type": "code",
      "source": [
        "emp1=employee(\"Aswin\",22,\"salem\",100000,0)"
      ],
      "metadata": {
        "id": "NJV0Ni466Sw_"
      },
      "execution_count": 7,
      "outputs": []
    },
    {
      "cell_type": "code",
      "source": [
        "emp1.displaystudent()"
      ],
      "metadata": {
        "colab": {
          "base_uri": "https://localhost:8080/"
        },
        "id": "KsaDp5_W6bhP",
        "outputId": "b74ff1a1-d775-4ec9-a694-093a23011c84"
      },
      "execution_count": 8,
      "outputs": [
        {
          "output_type": "stream",
          "name": "stdout",
          "text": [
            "Aswin22salem100000\n"
          ]
        }
      ]
    },
    {
      "cell_type": "code",
      "source": [
        "emp1.displaycount()"
      ],
      "metadata": {
        "colab": {
          "base_uri": "https://localhost:8080/"
        },
        "id": "-G0_yWxG6en_",
        "outputId": "b46c6be3-e6f2-47e0-d55f-615105ebf0b4"
      },
      "execution_count": 9,
      "outputs": [
        {
          "output_type": "stream",
          "name": "stdout",
          "text": [
            "Class variable 1\n",
            "Instance variable 1\n"
          ]
        }
      ]
    },
    {
      "cell_type": "code",
      "source": [
        "emp2=employee(\"Sathish\",45,\"salem\",90000,0)"
      ],
      "metadata": {
        "id": "lnDxkEFR6_-n"
      },
      "execution_count": 13,
      "outputs": []
    },
    {
      "cell_type": "code",
      "source": [
        "emp2.displaystudent()"
      ],
      "metadata": {
        "colab": {
          "base_uri": "https://localhost:8080/"
        },
        "id": "sJgHS4kn7GPn",
        "outputId": "6928ed26-3a17-403b-ed44-0c09a71d8364"
      },
      "execution_count": 14,
      "outputs": [
        {
          "output_type": "stream",
          "name": "stdout",
          "text": [
            "Sathish45salem90000\n"
          ]
        }
      ]
    },
    {
      "cell_type": "code",
      "source": [
        "emp2.displaycount()"
      ],
      "metadata": {
        "colab": {
          "base_uri": "https://localhost:8080/"
        },
        "id": "ERI68DgW7H__",
        "outputId": "e3759cec-8691-4199-fc78-1e1fb8616347"
      },
      "execution_count": 15,
      "outputs": [
        {
          "output_type": "stream",
          "name": "stdout",
          "text": [
            "Class variable 3\n",
            "Instance variable 1\n"
          ]
        }
      ]
    },
    {
      "cell_type": "code",
      "source": [
        "emp3=employee(\"gokul\",23,\"salem\",98000,1)"
      ],
      "metadata": {
        "id": "TWXnknfD7RA_"
      },
      "execution_count": 16,
      "outputs": []
    },
    {
      "cell_type": "code",
      "source": [
        "emp3.displaycount()"
      ],
      "metadata": {
        "colab": {
          "base_uri": "https://localhost:8080/"
        },
        "id": "uFOhsV2n9KAH",
        "outputId": "47cfb930-6b8f-41f5-ee5a-4844b7b1d4eb"
      },
      "execution_count": 17,
      "outputs": [
        {
          "output_type": "stream",
          "name": "stdout",
          "text": [
            "Class variable 4\n",
            "Instance variable 2\n"
          ]
        }
      ]
    },
    {
      "cell_type": "code",
      "source": [],
      "metadata": {
        "id": "qCeG8VFP9MOf"
      },
      "execution_count": null,
      "outputs": []
    }
  ]
}